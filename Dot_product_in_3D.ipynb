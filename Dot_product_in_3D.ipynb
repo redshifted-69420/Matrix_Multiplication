{
 "cells": [
  {
   "cell_type": "code",
   "execution_count": 1,
   "metadata": {},
   "outputs": [
    {
     "name": "stdout",
     "output_type": "stream",
     "text": [
      "Overwriting main.cpp\n",
      "CPU times: user 686 µs, sys: 417 µs, total: 1.1 ms\n",
      "Wall time: 1.12 ms\n"
     ]
    }
   ],
   "source": [
    "%%time\n",
    "%%file main.cpp\n",
    "\n",
    "#include <iostream>\n",
    "#include <vector>\n",
    "\n",
    "double dotProduct3D(const std::vector<std::vector<std::vector<double>>>& A, \n",
    "                    const std::vector<std::vector<std::vector<double>>>& B) {\n",
    "\n",
    "    if (A.size() != B.size() || A[0].size() != B[0].size() || A[0][0].size() != B[0][0].size()) {\n",
    "        throw std::invalid_argument(\"Matrices must have the same dimensions for dot product.\");\n",
    "    }\n",
    "\n",
    "    int xSize = A.size();\n",
    "    int ySize = A[0].size();\n",
    "    int zSize = A[0][0].size();\n",
    "\n",
    "    double result = 0.0;\n",
    "\n",
    "    for (int x = 0; x < xSize; ++x) {\n",
    "        for (int y = 0; y < ySize; ++y) {\n",
    "            for (int z = 0; z < zSize; ++z) {\n",
    "                result += A[x][y][z] * B[x][y][z];\n",
    "            }\n",
    "        }\n",
    "    }\n",
    "\n",
    "    return result;\n",
    "}\n",
    "\n",
    "int main() {\n",
    "    std::vector<std::vector<std::vector<double>>> matrixA = {\n",
    "        {{1, 2, 3}, {4, 5, 6}},\n",
    "        {{7, 8, 9}, {10, 11, 12}}\n",
    "    };\n",
    "\n",
    "    std::vector<std::vector<std::vector<double>>> matrixB = {\n",
    "        {{2, 4, 6}, {8, 10, 12}},\n",
    "        {{14, 16, 18}, {20, 22, 24}} \n",
    "    };\n",
    "\n",
    "    try {\n",
    "        double dotProduct = dotProduct3D(matrixA, matrixB);\n",
    "        std::cout << \"Dot Product of 3D Matrices: \" << dotProduct << std::endl;\n",
    "\n",
    "    } catch (const std::invalid_argument& e) {\n",
    "        std::cerr << \"Error: \" << e.what() << std::endl;\n",
    "    }\n",
    "\n",
    "    return 0;\n",
    "}\n"
   ]
  },
  {
   "cell_type": "code",
   "execution_count": 2,
   "metadata": {},
   "outputs": [
    {
     "name": "stdout",
     "output_type": "stream",
     "text": [
      "CPU times: user 2.32 ms, sys: 4.2 ms, total: 6.51 ms\n",
      "Wall time: 2 s\n"
     ]
    }
   ],
   "source": [
    "%%time\n",
    "%%bash \n",
    "g++ -std=c++17 main.cpp -o main\n"
   ]
  },
  {
   "cell_type": "code",
   "execution_count": 3,
   "metadata": {},
   "outputs": [
    {
     "name": "stdout",
     "output_type": "stream",
     "text": [
      "Dot Product of 3D Matrices: 1300\n",
      "CPU times: user 3.69 ms, sys: 4.86 ms, total: 8.54 ms\n",
      "Wall time: 698 ms\n"
     ]
    }
   ],
   "source": [
    "%%time\n",
    "%%bash\n",
    "./main"
   ]
  },
  {
   "cell_type": "code",
   "execution_count": 4,
   "metadata": {},
   "outputs": [
    {
     "name": "stdout",
     "output_type": "stream",
     "text": [
      "Overwriting MatrixDotProduct.java\n",
      "CPU times: user 925 µs, sys: 1.05 ms, total: 1.98 ms\n",
      "Wall time: 1.67 ms\n"
     ]
    }
   ],
   "source": [
    "%%time\n",
    "%%file MatrixDotProduct.java\n",
    "\n",
    "public class MatrixDotProduct {\n",
    "\n",
    "    public static double dotProduct3D(double[][][] A, double[][][] B) {\n",
    "\n",
    "        // Dimension checks\n",
    "        if (A.length != B.length || A[0].length != B[0].length || A[0][0].length != B[0][0].length) {\n",
    "            throw new IllegalArgumentException(\"Matrices must have the same dimensions for dot product.\");\n",
    "        }\n",
    "\n",
    "        int xSize = A.length;\n",
    "        int ySize = A[0].length;\n",
    "        int zSize = A[0][0].length;\n",
    "\n",
    "        double result = 0.0;\n",
    "\n",
    "        for (int x = 0; x < xSize; ++x) {\n",
    "            for (int y = 0; y < ySize; ++y) {\n",
    "                for (int z = 0; z < zSize; ++z) {\n",
    "                    result += A[x][y][z] * B[x][y][z];\n",
    "                }\n",
    "            }\n",
    "        }\n",
    "\n",
    "        return result;\n",
    "    }\n",
    "\n",
    "    public static void main(String[] args) {\n",
    "        double[][][] matrixA = {\n",
    "                {{1, 2, 3}, {4, 5, 6}},\n",
    "                {{7, 8, 9}, {10, 11, 12}}\n",
    "        };\n",
    "\n",
    "        double[][][] matrixB = {\n",
    "                {{2, 4, 6}, {8, 10, 12}},\n",
    "                {{14, 16, 18}, {20, 22, 24}}\n",
    "        };\n",
    "\n",
    "        try {\n",
    "            double dotProduct = dotProduct3D(matrixA, matrixB);\n",
    "            System.out.println(\"Dot Product of 3D Matrices: \" + dotProduct);\n",
    "\n",
    "        } catch (IllegalArgumentException e) {\n",
    "            System.err.println(\"Error: \" + e.getMessage());\n",
    "        }\n",
    "    }\n",
    "}"
   ]
  },
  {
   "cell_type": "code",
   "execution_count": 5,
   "metadata": {},
   "outputs": [
    {
     "name": "stdout",
     "output_type": "stream",
     "text": [
      "CPU times: user 1.59 ms, sys: 2.87 ms, total: 4.46 ms\n",
      "Wall time: 501 ms\n"
     ]
    }
   ],
   "source": [
    "%%time\n",
    "%%bash\n",
    "javac MatrixDotProduct.java"
   ]
  },
  {
   "cell_type": "code",
   "execution_count": 6,
   "metadata": {},
   "outputs": [
    {
     "name": "stdout",
     "output_type": "stream",
     "text": [
      "Dot Product of 3D Matrices: 1300.0\n",
      "CPU times: user 2.48 ms, sys: 3.3 ms, total: 5.77 ms\n",
      "Wall time: 50.5 ms\n"
     ]
    }
   ],
   "source": [
    "%%time\n",
    "%%bash\n",
    "java MatrixDotProduct"
   ]
  },
  {
   "cell_type": "code",
   "execution_count": 7,
   "metadata": {},
   "outputs": [
    {
     "name": "stdout",
     "output_type": "stream",
     "text": [
      "Overwriting matrix_dot.c\n",
      "CPU times: user 874 µs, sys: 693 µs, total: 1.57 ms\n",
      "Wall time: 1.72 ms\n"
     ]
    }
   ],
   "source": [
    "%%time\n",
    "%%file matrix_dot.c\n",
    "\n",
    "\n",
    "#include <stdio.h>\n",
    "#include <stdlib.h> \n",
    "\n",
    "double dotProduct3D(int xSize, int ySize, int zSize, \n",
    "                   double A[xSize][ySize][zSize], \n",
    "                   double B[xSize][ySize][zSize]) {\n",
    "\n",
    "    // Dimension check (handled implicitly by array sizes)\n",
    "\n",
    "    double result = 0.0;\n",
    "\n",
    "    for (int x = 0; x < xSize; ++x) {\n",
    "        for (int y = 0; y < ySize; ++y) {\n",
    "            for (int z = 0; z < zSize; ++z) {\n",
    "                result += A[x][y][z] * B[x][y][z];\n",
    "            }\n",
    "        }\n",
    "    }\n",
    "\n",
    "    return result;\n",
    "}\n",
    "\n",
    "int main() {\n",
    "    // Define the matrix dimensions \n",
    "    int xSize = 2;\n",
    "    int ySize = 2;\n",
    "    int zSize = 3;\n",
    "\n",
    "    // Define the 3D matrices\n",
    "    double matrixA[2][2][3] = {\n",
    "        {{1, 2, 3}, {4, 5, 6}},\n",
    "        {{7, 8, 9}, {10, 11, 12}}\n",
    "    };\n",
    "\n",
    "    double matrixB[2][2][3] = {\n",
    "        {{2, 4, 6}, {8, 10, 12}},\n",
    "        {{14, 16, 18}, {20, 22, 24}} \n",
    "    };\n",
    "\n",
    "    // Calculate the dot product\n",
    "    double dotProduct = dotProduct3D(xSize, ySize, zSize, matrixA, matrixB);\n",
    "\n",
    "    // Print the result\n",
    "    printf(\"Dot Product of 3D Matrices: %f\\n\", dotProduct); \n",
    "\n",
    "    return 0;\n",
    "}"
   ]
  },
  {
   "cell_type": "code",
   "execution_count": 8,
   "metadata": {},
   "outputs": [
    {
     "name": "stdout",
     "output_type": "stream",
     "text": [
      "CPU times: user 2.29 ms, sys: 3.97 ms, total: 6.26 ms\n",
      "Wall time: 73.4 ms\n"
     ]
    }
   ],
   "source": [
    "%%time\n",
    "%%bash\n",
    "gcc matrix_dot.c -o matrix_dot"
   ]
  },
  {
   "cell_type": "code",
   "execution_count": 9,
   "metadata": {},
   "outputs": [
    {
     "name": "stdout",
     "output_type": "stream",
     "text": [
      "Dot Product of 3D Matrices: 1300.000000\n",
      "CPU times: user 4.13 ms, sys: 4.23 ms, total: 8.37 ms\n",
      "Wall time: 323 ms\n"
     ]
    }
   ],
   "source": [
    "%%time\n",
    "%%bash\n",
    "./matrix_dot"
   ]
  },
  {
   "cell_type": "code",
   "execution_count": 10,
   "metadata": {},
   "outputs": [
    {
     "name": "stdout",
     "output_type": "stream",
     "text": [
      "Overwriting matrix_dot_rs.rs\n",
      "CPU times: user 1.12 ms, sys: 1.29 ms, total: 2.41 ms\n",
      "Wall time: 1.99 ms\n"
     ]
    }
   ],
   "source": [
    "%%time\n",
    "%%file matrix_dot_rs.rs\n",
    "\n",
    "fn dot_product_3d(a: &[[[f64; 3]; 2]; 2], b: &[[[f64; 3]; 2]; 2]) -> f64 {\n",
    "    // In Rust, you often know array sizes at compile time\n",
    "    let x_size = a.len();\n",
    "    let y_size = a[0].len();\n",
    "    let z_size = a[0][0].len();\n",
    "\n",
    "    // Assert dimensions match (for safety in debug builds)\n",
    "    assert_eq!(x_size, b.len());\n",
    "    assert_eq!(y_size, b[0].len());\n",
    "    assert_eq!(z_size, b[0][0].len());\n",
    "\n",
    "    let mut result = 0.0;\n",
    "\n",
    "    for x in 0..x_size {\n",
    "        for y in 0..y_size {\n",
    "            for z in 0..z_size {\n",
    "                result += a[x][y][z] * b[x][y][z];\n",
    "            }\n",
    "        }\n",
    "    }\n",
    "\n",
    "    result\n",
    "}\n",
    "\n",
    "fn main() {\n",
    "    let matrix_a: [[[f64; 3]; 2]; 2] = [\n",
    "        [[1.0, 2.0, 3.0], [4.0, 5.0, 6.0]],\n",
    "        [[7.0, 8.0, 9.0], [10.0, 11.0, 12.0]],\n",
    "    ];\n",
    "\n",
    "    let matrix_b: [[[f64; 3]; 2]; 2] = [\n",
    "        [[2.0, 4.0, 6.0], [8.0, 10.0, 12.0]],\n",
    "        [[14.0, 16.0, 18.0], [20.0, 22.0, 24.0]],\n",
    "    ];\n",
    "\n",
    "    let dot_product = dot_product_3d(&matrix_a, &matrix_b);\n",
    "    println!(\"Dot Product of 3D Matrices: {}\", dot_product);\n",
    "}"
   ]
  },
  {
   "cell_type": "code",
   "execution_count": 11,
   "metadata": {},
   "outputs": [
    {
     "name": "stdout",
     "output_type": "stream",
     "text": [
      "CPU times: user 2.87 ms, sys: 4.41 ms, total: 7.27 ms\n",
      "Wall time: 508 ms\n"
     ]
    }
   ],
   "source": [
    "%%time\n",
    "%%bash\n",
    "rustc matrix_dot_rs.rs"
   ]
  },
  {
   "cell_type": "code",
   "execution_count": 12,
   "metadata": {},
   "outputs": [
    {
     "name": "stdout",
     "output_type": "stream",
     "text": [
      "Dot Product of 3D Matrices: 1300\n",
      "CPU times: user 3.08 ms, sys: 3.47 ms, total: 6.55 ms\n",
      "Wall time: 297 ms\n"
     ]
    }
   ],
   "source": [
    "%%time\n",
    "%%bash\n",
    "./matrix_dot_rs"
   ]
  },
  {
   "cell_type": "code",
   "execution_count": 13,
   "metadata": {},
   "outputs": [
    {
     "name": "stdout",
     "output_type": "stream",
     "text": [
      "Dot Product of 3D Matrices: 1300\n",
      "CPU times: user 737 ms, sys: 176 ms, total: 913 ms\n",
      "Wall time: 170 ms\n"
     ]
    }
   ],
   "source": [
    "%%time\n",
    "\n",
    "import numpy as np\n",
    "\n",
    "def dot_product_3d(A, B):\n",
    "    if A.shape != B.shape:\n",
    "        raise ValueError(\"Matrices must have the same dimensions for dot product.\")\n",
    "\n",
    "    return np.sum(A * B)\n",
    "\n",
    "# Example usage:\n",
    "matrix_a = np.array([\n",
    "    [[1, 2, 3], [4, 5, 6]],\n",
    "    [[7, 8, 9], [10, 11, 12]]\n",
    "])\n",
    "\n",
    "matrix_b = np.array([\n",
    "    [[2, 4, 6], [8, 10, 12]],\n",
    "    [[14, 16, 18], [20, 22, 24]]\n",
    "])\n",
    "\n",
    "try:\n",
    "    dot_product = dot_product_3d(matrix_a, matrix_b)\n",
    "    print(\"Dot Product of 3D Matrices:\", dot_product) \n",
    "\n",
    "except ValueError as e:\n",
    "    print(\"Error:\", e)"
   ]
  },
  {
   "cell_type": "code",
   "execution_count": 14,
   "metadata": {},
   "outputs": [
    {
     "name": "stdout",
     "output_type": "stream",
     "text": [
      "CPU times: user 1.33 s, sys: 220 ms, total: 1.55 s\n",
      "Wall time: 1.04 s\n"
     ]
    }
   ],
   "source": [
    "%%time\n",
    "\n",
    "import torch\n",
    "\n",
    "def create_torch_tensors(device):\n",
    "    x = torch.rand((10000, 10000), dtype=torch.float32)\n",
    "    y = torch.rand((10000, 10000), dtype=torch.float32)\n",
    "    x = x.to(device)\n",
    "    y = y.to(device)\n",
    "\n",
    "    return x, y"
   ]
  },
  {
   "cell_type": "code",
   "execution_count": 15,
   "metadata": {},
   "outputs": [
    {
     "name": "stdout",
     "output_type": "stream",
     "text": [
      "CPU times: user 481 ms, sys: 58.2 ms, total: 540 ms\n",
      "Wall time: 585 ms\n"
     ]
    }
   ],
   "source": [
    "%%time\n",
    "device = torch.device (\"cpu\")\n",
    "x, y = create_torch_tensors(device)"
   ]
  },
  {
   "cell_type": "code",
   "execution_count": 16,
   "metadata": {},
   "outputs": [
    {
     "name": "stdout",
     "output_type": "stream",
     "text": [
      "CPU times: user 74.6 ms, sys: 404 ms, total: 478 ms\n",
      "Wall time: 137 ms\n"
     ]
    },
    {
     "data": {
      "text/plain": [
       "tensor([[6.2351e-01, 2.3972e-01, 2.8806e-01,  ..., 6.6830e-01, 1.2596e-01,\n",
       "         1.0391e-04],\n",
       "        [1.3492e-02, 5.0462e-01, 1.0177e-01,  ..., 8.6272e-03, 2.5893e-01,\n",
       "         8.8372e-01],\n",
       "        [1.8164e-01, 2.7176e-01, 4.7026e-02,  ..., 2.0183e-01, 1.3807e-01,\n",
       "         3.4889e-02],\n",
       "        ...,\n",
       "        [2.0202e-03, 2.9081e-02, 1.6473e-01,  ..., 4.1460e-03, 8.6504e-02,\n",
       "         3.2549e-02],\n",
       "        [3.0069e-01, 2.8491e-01, 2.9522e-01,  ..., 5.4237e-03, 9.3061e-02,\n",
       "         1.1977e-01],\n",
       "        [1.1377e-01, 3.7399e-01, 1.3376e-01,  ..., 1.0144e-01, 5.4333e-01,\n",
       "         1.6316e-01]])"
      ]
     },
     "execution_count": 16,
     "metadata": {},
     "output_type": "execute_result"
    }
   ],
   "source": [
    "%%time\n",
    "x * y"
   ]
  },
  {
   "cell_type": "code",
   "execution_count": 17,
   "metadata": {},
   "outputs": [
    {
     "name": "stdout",
     "output_type": "stream",
     "text": [
      "CPU times: user 837 ms, sys: 405 ms, total: 1.24 s\n",
      "Wall time: 1.24 s\n"
     ]
    }
   ],
   "source": [
    "%%time\n",
    "device = torch.device (\"mps\")\n",
    "x, y = create_torch_tensors(device)"
   ]
  },
  {
   "cell_type": "code",
   "execution_count": 18,
   "metadata": {},
   "outputs": [
    {
     "name": "stdout",
     "output_type": "stream",
     "text": [
      "CPU times: user 12.7 ms, sys: 45.7 ms, total: 58.3 ms\n",
      "Wall time: 475 ms\n"
     ]
    },
    {
     "data": {
      "text/plain": [
       "tensor([[0.1548, 0.0290, 0.3268,  ..., 0.3281, 0.4943, 0.0881],\n",
       "        [0.0796, 0.1534, 0.1663,  ..., 0.1372, 0.5850, 0.4108],\n",
       "        [0.0702, 0.1417, 0.3610,  ..., 0.1639, 0.4377, 0.0228],\n",
       "        ...,\n",
       "        [0.8634, 0.8234, 0.3480,  ..., 0.1321, 0.0133, 0.3806],\n",
       "        [0.0032, 0.4149, 0.0956,  ..., 0.0797, 0.1056, 0.2171],\n",
       "        [0.1695, 0.0995, 0.1122,  ..., 0.0038, 0.0897, 0.0849]],\n",
       "       device='mps:0')"
      ]
     },
     "execution_count": 18,
     "metadata": {},
     "output_type": "execute_result"
    }
   ],
   "source": [
    "%%time\n",
    "x * y"
   ]
  }
 ],
 "metadata": {
  "kernelspec": {
   "display_name": "Python 3",
   "language": "python",
   "name": "python3"
  },
  "language_info": {
   "codemirror_mode": {
    "name": "ipython",
    "version": 3
   },
   "file_extension": ".py",
   "mimetype": "text/x-python",
   "name": "python",
   "nbconvert_exporter": "python",
   "pygments_lexer": "ipython3",
   "version": "3.9.6"
  }
 },
 "nbformat": 4,
 "nbformat_minor": 2
}
