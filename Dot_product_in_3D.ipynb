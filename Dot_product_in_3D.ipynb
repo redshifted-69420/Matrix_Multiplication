{
 "cells": [
  {
   "cell_type": "code",
   "execution_count": null,
   "metadata": {},
   "outputs": [],
   "source": [
    "%%time\n",
    "%%file main.cpp\n",
    "\n",
    "#include <iostream>\n",
    "#include <vector>\n",
    "\n",
    "double dotProduct3D(const std::vector<std::vector<std::vector<double>>>& A, \n",
    "                    const std::vector<std::vector<std::vector<double>>>& B) {\n",
    "\n",
    "    if (A.size() != B.size() || A[0].size() != B[0].size() || A[0][0].size() != B[0][0].size()) {\n",
    "        throw std::invalid_argument(\"Matrices must have the same dimensions for dot product.\");\n",
    "    }\n",
    "\n",
    "    int xSize = A.size();\n",
    "    int ySize = A[0].size();\n",
    "    int zSize = A[0][0].size();\n",
    "\n",
    "    double result = 0.0;\n",
    "\n",
    "    for (int x = 0; x < xSize; ++x) {\n",
    "        for (int y = 0; y < ySize; ++y) {\n",
    "            for (int z = 0; z < zSize; ++z) {\n",
    "                result += A[x][y][z] * B[x][y][z];\n",
    "            }\n",
    "        }\n",
    "    }\n",
    "\n",
    "    return result;\n",
    "}\n",
    "\n",
    "int main() {\n",
    "    std::vector<std::vector<std::vector<double>>> matrixA = {\n",
    "        {{1, 2, 3}, {4, 5, 6}},\n",
    "        {{7, 8, 9}, {10, 11, 12}}\n",
    "    };\n",
    "\n",
    "    std::vector<std::vector<std::vector<double>>> matrixB = {\n",
    "        {{2, 4, 6}, {8, 10, 12}},\n",
    "        {{14, 16, 18}, {20, 22, 24}} \n",
    "    };\n",
    "\n",
    "    try {\n",
    "        double dotProduct = dotProduct3D(matrixA, matrixB);\n",
    "        std::cout << \"Dot Product of 3D Matrices: \" << dotProduct << std::endl;\n",
    "\n",
    "    } catch (const std::invalid_argument& e) {\n",
    "        std::cerr << \"Error: \" << e.what() << std::endl;\n",
    "    }\n",
    "\n",
    "    return 0;\n",
    "}\n"
   ]
  },
  {
   "cell_type": "code",
   "execution_count": null,
   "metadata": {},
   "outputs": [],
   "source": [
    "%%time\n",
    "%%bash \n",
    "g++ -std=c++17 main.cpp -o main\n"
   ]
  },
  {
   "cell_type": "code",
   "execution_count": null,
   "metadata": {},
   "outputs": [],
   "source": [
    "%%time\n",
    "%%bash\n",
    "./main"
   ]
  },
  {
   "cell_type": "code",
   "execution_count": null,
   "metadata": {},
   "outputs": [],
   "source": [
    "%%time\n",
    "%%file MatrixDotProduct.java\n",
    "\n",
    "public class MatrixDotProduct {\n",
    "\n",
    "    public static double dotProduct3D(double[][][] A, double[][][] B) {\n",
    "\n",
    "        // Dimension checks\n",
    "        if (A.length != B.length || A[0].length != B[0].length || A[0][0].length != B[0][0].length) {\n",
    "            throw new IllegalArgumentException(\"Matrices must have the same dimensions for dot product.\");\n",
    "        }\n",
    "\n",
    "        int xSize = A.length;\n",
    "        int ySize = A[0].length;\n",
    "        int zSize = A[0][0].length;\n",
    "\n",
    "        double result = 0.0;\n",
    "\n",
    "        for (int x = 0; x < xSize; ++x) {\n",
    "            for (int y = 0; y < ySize; ++y) {\n",
    "                for (int z = 0; z < zSize; ++z) {\n",
    "                    result += A[x][y][z] * B[x][y][z];\n",
    "                }\n",
    "            }\n",
    "        }\n",
    "\n",
    "        return result;\n",
    "    }\n",
    "\n",
    "    public static void main(String[] args) {\n",
    "        double[][][] matrixA = {\n",
    "                {{1, 2, 3}, {4, 5, 6}},\n",
    "                {{7, 8, 9}, {10, 11, 12}}\n",
    "        };\n",
    "\n",
    "        double[][][] matrixB = {\n",
    "                {{2, 4, 6}, {8, 10, 12}},\n",
    "                {{14, 16, 18}, {20, 22, 24}}\n",
    "        };\n",
    "\n",
    "        try {\n",
    "            double dotProduct = dotProduct3D(matrixA, matrixB);\n",
    "            System.out.println(\"Dot Product of 3D Matrices: \" + dotProduct);\n",
    "\n",
    "        } catch (IllegalArgumentException e) {\n",
    "            System.err.println(\"Error: \" + e.getMessage());\n",
    "        }\n",
    "    }\n",
    "}"
   ]
  },
  {
   "cell_type": "code",
   "execution_count": null,
   "metadata": {},
   "outputs": [],
   "source": [
    "%%time\n",
    "%%bash\n",
    "javac MatrixDotProduct.java"
   ]
  },
  {
   "cell_type": "code",
   "execution_count": null,
   "metadata": {},
   "outputs": [],
   "source": [
    "%%time\n",
    "%%bash\n",
    "java MatrixDotProduct"
   ]
  },
  {
   "cell_type": "code",
   "execution_count": null,
   "metadata": {},
   "outputs": [],
   "source": [
    "%%time\n",
    "%%file matrix_dot.c\n",
    "\n",
    "\n",
    "#include <stdio.h>\n",
    "#include <stdlib.h> \n",
    "\n",
    "double dotProduct3D(int xSize, int ySize, int zSize, \n",
    "                   double A[xSize][ySize][zSize], \n",
    "                   double B[xSize][ySize][zSize]) {\n",
    "\n",
    "    // Dimension check (handled implicitly by array sizes)\n",
    "\n",
    "    double result = 0.0;\n",
    "\n",
    "    for (int x = 0; x < xSize; ++x) {\n",
    "        for (int y = 0; y < ySize; ++y) {\n",
    "            for (int z = 0; z < zSize; ++z) {\n",
    "                result += A[x][y][z] * B[x][y][z];\n",
    "            }\n",
    "        }\n",
    "    }\n",
    "\n",
    "    return result;\n",
    "}\n",
    "\n",
    "int main() {\n",
    "    // Define the matrix dimensions \n",
    "    int xSize = 2;\n",
    "    int ySize = 2;\n",
    "    int zSize = 3;\n",
    "\n",
    "    // Define the 3D matrices\n",
    "    double matrixA[2][2][3] = {\n",
    "        {{1, 2, 3}, {4, 5, 6}},\n",
    "        {{7, 8, 9}, {10, 11, 12}}\n",
    "    };\n",
    "\n",
    "    double matrixB[2][2][3] = {\n",
    "        {{2, 4, 6}, {8, 10, 12}},\n",
    "        {{14, 16, 18}, {20, 22, 24}} \n",
    "    };\n",
    "\n",
    "    // Calculate the dot product\n",
    "    double dotProduct = dotProduct3D(xSize, ySize, zSize, matrixA, matrixB);\n",
    "\n",
    "    // Print the result\n",
    "    printf(\"Dot Product of 3D Matrices: %f\\n\", dotProduct); \n",
    "\n",
    "    return 0;\n",
    "}"
   ]
  },
  {
   "cell_type": "code",
   "execution_count": null,
   "metadata": {},
   "outputs": [],
   "source": [
    "%%time\n",
    "%%bash\n",
    "gcc matrix_dot.c -o matrix_dot"
   ]
  },
  {
   "cell_type": "code",
   "execution_count": null,
   "metadata": {},
   "outputs": [],
   "source": [
    "%%time\n",
    "%%bash\n",
    "./matrix_dot"
   ]
  },
  {
   "cell_type": "code",
   "execution_count": null,
   "metadata": {},
   "outputs": [],
   "source": [
    "%%time\n",
    "%%file matrix_dot_rs.rs\n",
    "\n",
    "fn dot_product_3d(a: &[[[f64; 3]; 2]; 2], b: &[[[f64; 3]; 2]; 2]) -> f64 {\n",
    "    // In Rust, you often know array sizes at compile time\n",
    "    let x_size = a.len();\n",
    "    let y_size = a[0].len();\n",
    "    let z_size = a[0][0].len();\n",
    "\n",
    "    // Assert dimensions match (for safety in debug builds)\n",
    "    assert_eq!(x_size, b.len());\n",
    "    assert_eq!(y_size, b[0].len());\n",
    "    assert_eq!(z_size, b[0][0].len());\n",
    "\n",
    "    let mut result = 0.0;\n",
    "\n",
    "    for x in 0..x_size {\n",
    "        for y in 0..y_size {\n",
    "            for z in 0..z_size {\n",
    "                result += a[x][y][z] * b[x][y][z];\n",
    "            }\n",
    "        }\n",
    "    }\n",
    "\n",
    "    result\n",
    "}\n",
    "\n",
    "fn main() {\n",
    "    let matrix_a: [[[f64; 3]; 2]; 2] = [\n",
    "        [[1.0, 2.0, 3.0], [4.0, 5.0, 6.0]],\n",
    "        [[7.0, 8.0, 9.0], [10.0, 11.0, 12.0]],\n",
    "    ];\n",
    "\n",
    "    let matrix_b: [[[f64; 3]; 2]; 2] = [\n",
    "        [[2.0, 4.0, 6.0], [8.0, 10.0, 12.0]],\n",
    "        [[14.0, 16.0, 18.0], [20.0, 22.0, 24.0]],\n",
    "    ];\n",
    "\n",
    "    let dot_product = dot_product_3d(&matrix_a, &matrix_b);\n",
    "    println!(\"Dot Product of 3D Matrices: {}\", dot_product);\n",
    "}"
   ]
  },
  {
   "cell_type": "code",
   "execution_count": null,
   "metadata": {},
   "outputs": [],
   "source": [
    "%%time\n",
    "%%bash\n",
    "rustc matrix_dot_rs.rs"
   ]
  },
  {
   "cell_type": "code",
   "execution_count": null,
   "metadata": {},
   "outputs": [],
   "source": [
    "%%time\n",
    "%%bash\n",
    "./matrix_dot_rs"
   ]
  },
  {
   "cell_type": "code",
   "execution_count": null,
   "metadata": {},
   "outputs": [],
   "source": [
    "%%time\n",
    "\n",
    "import numpy as np\n",
    "\n",
    "def dot_product_3d(A, B):\n",
    "    if A.shape != B.shape:\n",
    "        raise ValueError(\"Matrices must have the same dimensions for dot product.\")\n",
    "\n",
    "    return np.sum(A * B)\n",
    "\n",
    "# Example usage:\n",
    "matrix_a = np.array([\n",
    "    [[1, 2, 3], [4, 5, 6]],\n",
    "    [[7, 8, 9], [10, 11, 12]]\n",
    "])\n",
    "\n",
    "matrix_b = np.array([\n",
    "    [[2, 4, 6], [8, 10, 12]],\n",
    "    [[14, 16, 18], [20, 22, 24]]\n",
    "])\n",
    "\n",
    "try:\n",
    "    dot_product = dot_product_3d(matrix_a, matrix_b)\n",
    "    print(\"Dot Product of 3D Matrices:\", dot_product) \n",
    "\n",
    "except ValueError as e:\n",
    "    print(\"Error:\", e)"
   ]
  },
  {
   "cell_type": "code",
   "execution_count": 27,
   "metadata": {},
   "outputs": [
    {
     "name": "stdout",
     "output_type": "stream",
     "text": [
      "93.9 ns ± 0.773 ns per loop (mean ± std. dev. of 7 runs, 10,000,000 loops each)\n"
     ]
    }
   ],
   "source": [
    "%%time\n",
    "\n",
    "import torch\n",
    "\n",
    "def create_torch_tensors(device):\n",
    "    x = torch.rand((10000, 10000), dtype=torch.float32)\n",
    "    y = torch.rand((10000, 10000), dtype=torch.float32)\n",
    "    x = x.to(device)\n",
    "    y = y.to(device)\n",
    "\n",
    "    return x, y"
   ]
  },
  {
   "cell_type": "code",
   "execution_count": null,
   "metadata": {},
   "outputs": [],
   "source": [
    "%%time\n",
    "device = torch.device (\"cpu\")\n",
    "x, y = create_torch_tensors(device)"
   ]
  },
  {
   "cell_type": "code",
   "execution_count": null,
   "metadata": {},
   "outputs": [],
   "source": [
    "%%time\n",
    "x * y"
   ]
  },
  {
   "cell_type": "code",
   "execution_count": 31,
   "metadata": {},
   "outputs": [
    {
     "name": "stdout",
     "output_type": "stream",
     "text": [
      "CPU times: user 501 ms, sys: 202 ms, total: 703 ms\n",
      "Wall time: 1.23 s\n"
     ]
    }
   ],
   "source": [
    "%%time\n",
    "device = torch.device (\"mps\")\n",
    "x, y = create_torch_tensors(device)"
   ]
  },
  {
   "cell_type": "code",
   "execution_count": 32,
   "metadata": {},
   "outputs": [
    {
     "name": "stdout",
     "output_type": "stream",
     "text": [
      "CPU times: user 13.1 ms, sys: 36.1 ms, total: 49.2 ms\n",
      "Wall time: 105 ms\n"
     ]
    },
    {
     "data": {
      "text/plain": [
       "tensor([[2.9315e-01, 7.1131e-01, 1.9939e-01,  ..., 1.8641e-01, 2.8864e-01,\n",
       "         3.3577e-01],\n",
       "        [6.3926e-03, 8.2847e-02, 3.4501e-01,  ..., 7.2817e-04, 1.6170e-05,\n",
       "         1.4072e-01],\n",
       "        [7.3401e-02, 3.9034e-01, 5.4508e-01,  ..., 2.5415e-01, 1.9200e-01,\n",
       "         4.0100e-02],\n",
       "        ...,\n",
       "        [5.3338e-01, 7.6290e-02, 2.2688e-01,  ..., 2.4648e-01, 2.9039e-01,\n",
       "         1.5017e-01],\n",
       "        [3.5788e-03, 3.2045e-01, 3.4576e-01,  ..., 1.8932e-02, 3.1886e-01,\n",
       "         6.6134e-01],\n",
       "        [1.6200e-02, 3.4597e-01, 1.5336e-01,  ..., 1.2073e-02, 5.2568e-01,\n",
       "         2.5953e-01]], device='mps:0')"
      ]
     },
     "execution_count": 32,
     "metadata": {},
     "output_type": "execute_result"
    }
   ],
   "source": [
    "%%time\n",
    "x * y"
   ]
  }
 ],
 "metadata": {
  "kernelspec": {
   "display_name": "Python 3",
   "language": "python",
   "name": "python3"
  },
  "language_info": {
   "codemirror_mode": {
    "name": "ipython",
    "version": 3
   },
   "file_extension": ".py",
   "mimetype": "text/x-python",
   "name": "python",
   "nbconvert_exporter": "python",
   "pygments_lexer": "ipython3",
   "version": "3.9.6"
  }
 },
 "nbformat": 4,
 "nbformat_minor": 2
}
